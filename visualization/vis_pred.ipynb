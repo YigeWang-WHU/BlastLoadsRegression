{
 "cells": [
  {
   "cell_type": "code",
   "execution_count": 1,
   "metadata": {},
   "outputs": [],
   "source": [
    "import torch.nn as nn\n",
    "import torch\n",
    "from torch.utils.data import Dataset\n",
    "import os\n",
    "import numpy as np\n",
    "from sklearn.preprocessing import StandardScaler\n",
    "from sklearn.model_selection import train_test_split\n",
    "import matplotlib.pyplot as plt\n",
    "import torch.optim as optim\n",
    "os.chdir('..')\n",
    "from utils.utils import load_ckpt, AverageMeter, to_scalar\n",
    "%matplotlib notebook\n",
    "%matplotlib inline"
   ]
  },
  {
   "cell_type": "markdown",
   "metadata": {},
   "source": [
    "## Dataset Preparation"
   ]
  },
  {
   "cell_type": "markdown",
   "metadata": {},
   "source": [
    "### Dataset COnfigurations"
   ]
  },
  {
   "cell_type": "code",
   "execution_count": 2,
   "metadata": {},
   "outputs": [],
   "source": [
    "data_root = \"raw_data\"\n",
    "txt = \"values_FAB.txt\"\n",
    "input_size = 2\n",
    "output_size = 2\n",
    "portion_train = 0.7\n",
    "portion_val = 0.15\n",
    "batch_size = 16\n",
    "train_split = 'data_splits/' + txt.split('.')[0] + '_train.txt'\n",
    "test_split = 'data_splits/' + txt.split('.')[0] + '_test.txt'\n",
    "val_split = 'data_splits/' + txt.split('.')[0] + '_val.txt'\n"
   ]
  },
  {
   "cell_type": "markdown",
   "metadata": {},
   "source": [
    "### Make Dataset"
   ]
  },
  {
   "cell_type": "code",
   "execution_count": 3,
   "metadata": {},
   "outputs": [],
   "source": [
    "\n",
    "def make_dataset(data_root, txt, input_size, output_size, portion_train, portion_val):\n",
    "    num_input = input_size\n",
    "    num_output = output_size\n",
    "    \n",
    "    with open(train_split, 'r') as tr, open(test_split, 'r') as te, open(val_split, 'r') as val:\n",
    "        strlines = tr.readlines()\n",
    "        stelines = te.readlines()\n",
    "        vallines = val.readlines()\n",
    " \n",
    "    target_train = []\n",
    "    target_test = []\n",
    "    target_val = []\n",
    "    input_train = []\n",
    "    input_test = []\n",
    "    input_val = []\n",
    " \n",
    "    for line in strlines:\n",
    "        line = eval(line.strip())\n",
    "        line =  list(map(float, line))\n",
    "        input_train.append(line[:num_input])\n",
    "        target_train.append(line[num_input:(num_input + num_output)])\n",
    "    for line in stelines:\n",
    "        line = eval(line.strip())\n",
    "        line =  list(map(float, line))\n",
    "        input_test.append(line[:num_input])\n",
    "        target_test.append(line[num_input:(num_input + num_output)])\n",
    "    for line in vallines:\n",
    "        line = eval(line.strip())\n",
    "        line =  list(map(float, line))\n",
    "        input_val.append(line[:num_input])\n",
    "        target_val.append(line[num_input:(num_input + num_output)])\n",
    "\n",
    "    target_train = np.array(target_train).astype(np.float32)\n",
    "    input_train = np.array(input_train).astype(np.float32)\n",
    " \n",
    "    target_test = np.array(target_test).astype(np.float32)\n",
    "    input_test = np.array(input_test).astype(np.float32)\n",
    " \n",
    "    target_val = np.array(target_val).astype(np.float32)\n",
    "    input_val = np.array(input_val).astype(np.float32)\n",
    "\n",
    "    target_scaler = StandardScaler()\n",
    "    target_train = torch.from_numpy(target_scaler.fit_transform(target_train).astype(np.float32))\n",
    "    target_test = torch.from_numpy(target_scaler.transform(target_test).astype(np.float32))\n",
    "    target_val = torch.from_numpy(target_scaler.transform(target_val).astype(np.float32))\n",
    "\n",
    "    input_scaler = StandardScaler()\n",
    "    input_train = torch.from_numpy(input_scaler.fit_transform(input_train).astype(np.float32))\n",
    "    input_test = torch.from_numpy(input_scaler.transform(input_test).astype(np.float32))\n",
    "    input_val = torch.from_numpy(input_scaler.transform(input_val).astype(np.float32))\n",
    "\n",
    "    return BlastWall(input_train, target_train), BlastWall(input_val, target_val), BlastWall(input_test, target_test)\n",
    "\n",
    "\n",
    "\n",
    "class BlastWall(Dataset):\n",
    "\n",
    "    def __init__(self, input, target):\n",
    "        self.input = input\n",
    "        self.target = target\n",
    "\n",
    "\n",
    "    def __len__(self):\n",
    "        return self.input.size()[0]\n",
    "\n",
    "    def __getitem__(self, idx):\n",
    "        return self.input[idx], self.target[idx]\n",
    "\n",
    "# Build dataset and dataloader\n",
    "    \n",
    "    \n",
    "train_set, val_set, test_set = make_dataset(data_root, txt, input_size, \\\n",
    "                                   output_size, portion_train, portion_val)\n",
    "train_loader = torch.utils.data.DataLoader(\n",
    "    dataset=train_set,\n",
    "    batch_size=batch_size,\n",
    "    shuffle=True,\n",
    "    num_workers=2,\n",
    "    drop_last=False)\n",
    "test_loader = torch.utils.data.DataLoader(\n",
    "    dataset=test_set,\n",
    "    batch_size=batch_size,\n",
    "    num_workers=2,\n",
    "    drop_last=False)\n",
    "val_loader = torch.utils.data.DataLoader(\n",
    "    dataset=val_set,\n",
    "    batch_size=batch_size,\n",
    "    num_workers=2,\n",
    "    drop_last=False)"
   ]
  },
  {
   "cell_type": "markdown",
   "metadata": {},
   "source": [
    "## Model"
   ]
  },
  {
   "cell_type": "markdown",
   "metadata": {},
   "source": [
    "### Model Configurations"
   ]
  },
  {
   "cell_type": "code",
   "execution_count": 4,
   "metadata": {},
   "outputs": [],
   "source": [
    "model_kwargs = {'input_size':2,'num_h': 1,'hidden_size':[20], 'output_size': 2}\n",
    "lr = 0.01"
   ]
  },
  {
   "cell_type": "markdown",
   "metadata": {},
   "source": [
    "### Build Model"
   ]
  },
  {
   "cell_type": "code",
   "execution_count": 5,
   "metadata": {},
   "outputs": [
    {
     "name": "stderr",
     "output_type": "stream",
     "text": [
      "<ipython-input-5-6377e2f1639d>:22: UserWarning: nn.init.xavier_uniform is now deprecated in favor of nn.init.xavier_uniform_.\n",
      "  torch.nn.init.xavier_uniform(m.weight)\n"
     ]
    }
   ],
   "source": [
    "class RegressionModel(nn.Module):\n",
    "\n",
    "    def __init__(self, input_size, num_h, hidden_size, output_size):\n",
    "        super(RegressionModel, self).__init__()\n",
    "        assert len(hidden_size) == num_h\n",
    "        # Add input_size and output_size to the list\n",
    "        hidden_size.insert(0, input_size)\n",
    "        hidden_size.append(output_size)\n",
    "        modules = []\n",
    "        # Append model elements sequentially\n",
    "        for l in range(len(hidden_size)-1):\n",
    "            modules.append(nn.Linear(hidden_size[l], hidden_size[l+1]))\n",
    "            if l == len(hidden_size)-2: break\n",
    "            modules.append(nn.ReLU())\n",
    "\n",
    "        self.model = nn.Sequential(*modules)\n",
    "        self.model.apply(self.init_weights)\n",
    "\n",
    "    @staticmethod\n",
    "    def init_weights(m):\n",
    "        if type(m) == nn.Linear:\n",
    "            torch.nn.init.xavier_uniform(m.weight)\n",
    "            m.bias.data.fill_(0.01)\n",
    "\n",
    "    def forward(self, X):\n",
    "\n",
    "        out = self.model(X)\n",
    "\n",
    "        return out\n",
    "    \n",
    "model = RegressionModel(**model_kwargs)\n",
    "optimizer = optim.Adam(model.parameters(), lr=lr)\n",
    "modules_optims = [model, optimizer]"
   ]
  },
  {
   "cell_type": "markdown",
   "metadata": {},
   "source": [
    "## Inference"
   ]
  },
  {
   "cell_type": "code",
   "execution_count": 6,
   "metadata": {},
   "outputs": [
    {
     "name": "stdout",
     "output_type": "stream",
     "text": [
      "Resume from ckpt exp/values_FAB/run1/model/ckpt_epoch59.pth, \n",
      "epoch: 59, scores: 0\n"
     ]
    }
   ],
   "source": [
    "from utils.utils import may_set_mode\n",
    "from sklearn.metrics import r2_score\n",
    "# Loss function\n",
    "criterion = nn.MSELoss()\n",
    "# Weight Path\n",
    "exp_dir  = \"exp/values_FAB/run1\"\n",
    "best_epoch = 59\n",
    "\n",
    "e, s = load_ckpt(modules_optims, os.path.join(exp_dir, 'model', 'ckpt_epoch{}.pth'.format(best_epoch)))\n",
    "may_set_mode(modules_optims, 'eval')\n",
    "\n",
    "\n",
    "\n",
    "# Infe on test set\n",
    "tepred_list = []\n",
    "tetarget_list = []\n",
    "teloss_meter = AverageMeter()\n",
    "for i, (sample_test, target_test) in enumerate(test_loader):\n",
    "    with torch.no_grad():\n",
    "        output = model(sample_test)\n",
    "    teloss = criterion(output, target_test)\n",
    "    teloss_meter.update(to_scalar(teloss))\n",
    "    tepred_list.extend(output.tolist())\n",
    "    tetarget_list.extend(target_test.tolist())\n",
    "\n",
    "# Infer on val set\n",
    "valpred_list = []\n",
    "valtarget_list = []\n",
    "valloss_meter = AverageMeter()\n",
    "for i, (sample_test, target_test) in enumerate(val_loader):\n",
    "    with torch.no_grad():\n",
    "        output = model(sample_test)\n",
    "    valloss = criterion(output, target_test)\n",
    "    valloss_meter.update(to_scalar(valloss))\n",
    "    valpred_list.extend(output.tolist())\n",
    "    valtarget_list.extend(target_test.tolist())\n",
    "    \n",
    "# Infer on train set\n",
    "\n",
    "trpred_list = []\n",
    "trtarget_list = []\n",
    "trloss_meter = AverageMeter()\n",
    "for i, (sample_test, target_test) in enumerate(train_loader):\n",
    "    with torch.no_grad():\n",
    "        output = model(sample_test)\n",
    "    trloss = criterion(output, target_test)\n",
    "    trloss_meter.update(to_scalar(trloss))\n",
    "    trpred_list.extend(output.tolist())\n",
    "    trtarget_list.extend(target_test.tolist())\n",
    "\n",
    "# Inferr on all\n",
    "allpred_list = trpred_list + tepred_list + valpred_list\n",
    "alltarget_list = trtarget_list + tetarget_list + valtarget_list\n",
    "\n"
   ]
  },
  {
   "cell_type": "markdown",
   "metadata": {},
   "source": [
    "## Visualization"
   ]
  },
  {
   "cell_type": "code",
   "execution_count": 14,
   "metadata": {},
   "outputs": [
    {
     "data": {
      "text/plain": [
       "<matplotlib.legend.Legend at 0x7efee50d2e20>"
      ]
     },
     "execution_count": 14,
     "metadata": {},
     "output_type": "execute_result"
    },
    {
     "data": {
      "image/png": "[encoded data removed]",
      "text/plain": [
       "<Figure size 720x720 with 4 Axes>"
      ]
     },
     "metadata": {
      "needs_background": "light"
     },
     "output_type": "display_data"
    }
   ],
   "source": [
    "var_index = 0\n",
    "fig, axs = plt.subplots(2, 2, figsize=(10,10))\n",
    "x = np.linspace(min(min([d[var_index] for d in allpred_list]), min([d[var_index] for d in alltarget_list])), \n",
    "                max(max([d[var_index] for d in allpred_list]), max([d[var_index] for d in alltarget_list])), \n",
    "                1000)\n",
    "\n",
    "axs[0,0].title.set_text('Training set')\n",
    "axs[0,0].plot(x,x,'r',label=\"Best Fit\")\n",
    "axs[0,0].scatter(x = [d[var_index] for d in trpred_list], y = [d[var_index] for d in trtarget_list],\n",
    "                 c='blue', marker='o', alpha=0.1, label=\"Data\")\n",
    "axs[0,0].set_xlabel('Targets')\n",
    "axs[0,0].set_ylabel('Predictions')\n",
    "axs[0,0].legend(loc='upper left')\n",
    "\n",
    "axs[0,1].title.set_text('Val Set')\n",
    "axs[0,1].plot(x,x,'r',label=\"Best Fit\")\n",
    "axs[0,1].scatter(x = [d[var_index] for d in valpred_list], y = [d[var_index] for d in valtarget_list],\n",
    "                 c='blue', marker='o', alpha=0.1, label=\"Data\")\n",
    "axs[0,1].set_xlabel('Targets')\n",
    "axs[0,1].set_ylabel('Predictions')\n",
    "axs[0,1].legend(loc='upper left')\n",
    "\n",
    "axs[1,0].title.set_text('Test Set')\n",
    "axs[1,0].plot(x,x,'r',label=\"Best Fit\")\n",
    "axs[1,0].scatter(x = [d[var_index] for d in tepred_list], y = [d[var_index] for d in tetarget_list],\n",
    "                 c='blue', marker='o', alpha=0.1, label=\"Data\")\n",
    "axs[1,0].set_xlabel('Targets')\n",
    "axs[1,0].set_ylabel('Predictions')\n",
    "axs[1,0].legend(loc='upper left')\n",
    "\n",
    "axs[1,1].title.set_text('All data')\n",
    "axs[1,1].plot(x,x,'r',label=\"Best Fit\")\n",
    "axs[1,1].scatter(x = [d[var_index] for d in allpred_list], y = [d[var_index] for d in alltarget_list],\n",
    "                 c='blue', marker='o', alpha=0.1,label=\"Data\")\n",
    "axs[1,1].set_xlabel('Targets')\n",
    "axs[1,1].set_ylabel('Predictions')\n",
    "axs[1,1].legend(loc='upper left')"
   ]
  },
  {
   "cell_type": "code",
   "execution_count": null,
   "metadata": {},
   "outputs": [],
   "source": []
  }
 ],
 "metadata": {
  "kernelspec": {
   "display_name": "Python 3",
   "language": "python",
   "name": "python3"
  },
  "language_info": {
   "codemirror_mode": {
    "name": "ipython",
    "version": 3
   },
   "file_extension": ".py",
   "mimetype": "text/x-python",
   "name": "python",
   "nbconvert_exporter": "python",
   "pygments_lexer": "ipython3",
   "version": "3.8.0"
  }
 },
 "nbformat": 4,
 "nbformat_minor": 4
}
